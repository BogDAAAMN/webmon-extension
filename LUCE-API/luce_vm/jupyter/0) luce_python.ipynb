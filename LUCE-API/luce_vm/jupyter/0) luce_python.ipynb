{
 "cells": [
  {
   "cell_type": "markdown",
   "metadata": {},
   "source": [
    "## Important Update (2019-07-02):\n",
    "The content in this notebook is no longer up to date. It is kept here only for reference.\n",
    "\n",
    "Please refer to the `Web3 Examples` and `hello_luce` notebooks instead for examples on how to use Python (and LuceVM) to interact programatically with the Ethereum blockchain."
   ]
  },
  {
   "cell_type": "markdown",
   "metadata": {},
   "source": [
    "# Example of Interaction between Python Code & Ethereum Smart Contract"
   ]
  },
  {
   "cell_type": "markdown",
   "metadata": {},
   "source": [
    "This notebook outlines how to deploy and interact with an Ethereum Solidity Smart Contract using the Python Web3 framework. It covers the setup, as well as deployment and interaction with a contract locally via Ganache. These instructions come in both `.pdf` and `.ipynb` format. The PDF file is intended to access the instructions while setting up the working environment. Once the virtual environment and jupyter notebook server are running the instructions can then be followed interactively directly from the Jupyter notebook file. "
   ]
  },
  {
   "cell_type": "markdown",
   "metadata": {},
   "source": [
    "Software used:  \n",
    "* [Python 3.6](https://www.python.org)\n",
    "* [Jupyter](https://jupyter.org)\n",
    "* [Ganache](https://www.trufflesuite.com/ganache)\n",
    "* [Remix](https://remix.ethereum.org)"
   ]
  },
  {
   "cell_type": "markdown",
   "metadata": {},
   "source": [
    "### Preparation\n",
    "I assume that Python 3.6 (3.7 or higher should work equally well), Ganache and the Jupyter notebook (for example via Anaconda) are already installed on the system. If not, please install these components via the instructions provided on the respective websites.  \n",
    "\n",
    "Next, we create a new project folder somewhere on the system and place the `luce_python.ipynb` file inside this folder."
   ]
  },
  {
   "cell_type": "markdown",
   "metadata": {},
   "source": [
    "### Setup Python Virtualenv"
   ]
  },
  {
   "cell_type": "markdown",
   "metadata": {},
   "source": [
    "It is good practice to set up a separate isolated python development environment for each project. This avoids library version conflicts and also helps with reproducibility as the same working environment can be easily recreated in the future. To set up a new virtual python environment we use the following commands in the terminal:"
   ]
  },
  {
   "cell_type": "markdown",
   "metadata": {},
   "source": [
    "Navigate to desired project location:  \n",
    "(Note: This directory must already exist.)   \n",
    "```cd /Users/arno/Desktop/luce_python/```\n",
    "\n",
    "Install virtual environment manager:  \n",
    "```pip install virtualenv```. \n",
    "\n",
    "Create new virtual environment:  \n",
    "```virtualenv .luce_python```\n",
    "\n",
    "Activate the new environment:  \n",
    "```source .luce_python/bin/activate```\n",
    "\n",
    "Install jupyter kernel in new environment:  \n",
    "```pip install ipykernel```  \n",
    "```python -m ipykernel install --user --name=luce_python_kernel```\n",
    "\n",
    "Run jupyter notebook  \n",
    "```jupyter notebook```\n"
   ]
  },
  {
   "cell_type": "markdown",
   "metadata": {},
   "source": [
    "### Connect Jupyter Notebook to Python Kernel"
   ]
  },
  {
   "cell_type": "markdown",
   "metadata": {},
   "source": [
    "Now, inside the Jupyter Noebook environment we open the `luce_python.ipynb` file to continue with the instructions. We change the python kernel to match the new environment we just created via `Kernel -> Change Kernel -> luce_python _kernel`. We then execute the python cell below to verify that the notebook is indeed using the correct python environment. The path displayed should match the one of our project folder. For example: `/Users/arno/Desktop/luce_python/.luce_python/bin/python`"
   ]
  },
  {
   "cell_type": "code",
   "execution_count": 1,
   "metadata": {},
   "outputs": [
    {
     "data": {
      "text/plain": [
       "'C:\\\\Users\\\\Pietro\\\\anaconda3\\\\python.exe'"
      ]
     },
     "execution_count": 1,
     "metadata": {},
     "output_type": "execute_result"
    }
   ],
   "source": [
    "# Check that correct python kernel is running in Notebook\n",
    "import sys\n",
    "sys.executable\n",
    "#sys.prefix"
   ]
  },
  {
   "cell_type": "code",
   "execution_count": 2,
   "metadata": {},
   "outputs": [
    {
     "name": "stderr",
     "output_type": "stream",
     "text": [
      "'which' is not recognized as an internal or external command,\n",
      "operable program or batch file.\n"
     ]
    }
   ],
   "source": [
    "!which python"
   ]
  },
  {
   "cell_type": "markdown",
   "metadata": {},
   "source": [
    "Python version used by shell is the same as python kernel used by Jupyter notebook. Very good! :)"
   ]
  },
  {
   "cell_type": "markdown",
   "metadata": {},
   "source": [
    "### Install Python Libraries\n",
    "We install the Python web3 framework and python solidity compiler. The special syntax is used to execute terminal commands from within jupyter and ensure that the packages are installed into our virtual python environment."
   ]
  },
  {
   "cell_type": "code",
   "execution_count": 3,
   "metadata": {},
   "outputs": [],
   "source": [
    "# Install Python Web3 package\n",
    "#!{sys.executable} -m pip install web3"
   ]
  },
  {
   "cell_type": "code",
   "execution_count": 4,
   "metadata": {},
   "outputs": [],
   "source": [
    "# Install Python Solidity Compiler\n",
    "#!{sys.executable} -m pip install py-solc"
   ]
  },
  {
   "cell_type": "markdown",
   "metadata": {},
   "source": [
    "### Solidity Smart Contract"
   ]
  },
  {
   "cell_type": "markdown",
   "metadata": {},
   "source": [
    "```javascript\n",
    "pragma solidity ^0.4.26;\n",
    "\n",
    "contract Data{\n",
    "    \n",
    "    address public dataProvider;\n",
    "    uint public licence;\n",
    "    string private link;\n",
    "    string public dataDescription=\"default\"; //this needs to become a struct!\n",
    "\n",
    "    // The keyword \"public\" makes those variables\n",
    "    // easily readable from outside.\n",
    "    mapping (address => uint) userTokens;\n",
    "    mapping (address => address) public mappedUsers;\n",
    "    address[] public addressIndices;\n",
    "    // Events allow light clients to react to changes efficiently.\n",
    "    event Sent(address from, address to, uint token);\n",
    "    event publishedDataset(address publisher, string description, string link, uint licence); // Event\n",
    "    event updateDataset(address to, string uspdateDescr, string link);\n",
    "    constructor () public{\n",
    "                dataProvider=msg.sender;\n",
    "    }\n",
    "    \n",
    "    function publishData(string memory _newdescription, string memory _link, uint _licence) public {\n",
    "        require(msg.sender == dataProvider);\n",
    "        dataDescription=_newdescription;\n",
    "        link=_link;\n",
    "        licence=_licence;\n",
    "        emit publishedDataset(msg.sender, _newdescription, link, licence); // Triggering event\n",
    "    }\n",
    "    function setLicence(uint newLicence) public{\n",
    "       dataProvider=msg.sender;\n",
    "       licence=newLicence;\n",
    "    //TODO we need to update all of the changes!! \n",
    "    //Not focusing here as I am not sure we need to change licences once the data is published.\n",
    "    }\n",
    "    \n",
    "    \n",
    "    function getLicence() public view returns(uint) {\n",
    "       return licence;\n",
    "    }\n",
    "    //DataRequesters get the link to the data only if the token is right!\n",
    "    function getLink(uint token) public view returns(string memory){\n",
    "        require(token==1);\n",
    "        return link;\n",
    "    }\n",
    "    //This is a function to notify the dataRequesters to update the data records\n",
    "    function updateData(string memory updateDescr, string memory _newlink) public{\n",
    "        require(dataProvider==msg.sender);\n",
    "        dataDescription=updateDescr;\n",
    "        link=_newlink;\n",
    "        uint arrayLength = addressIndices.length;\n",
    "        for (uint i=0; i<arrayLength; i++) {\n",
    "            address to=mappedUsers[addressIndices[i]];\n",
    "            emit updateDataset(to, updateDescr, link); // Triggering event for all dataRequesters\n",
    "        }//for\n",
    "   }\n",
    "    function addDataRequester(uint purposeCode, uint licenceType) public returns(uint){\n",
    "       //for now the purpose is a code as the string comparison it's expensive in solidity\n",
    "       //in the future the purpose should be compared to a field of the overall contract description\n",
    "        require(purposeCode<=20);\n",
    "        require(licence==licenceType);\n",
    "        addressIndices.push(msg.sender); //adding the data requester to an array so that I can loop the mapping of dataRequesters later!\n",
    "        mappedUsers[msg.sender] = msg.sender;//adding a new data requester (key and value are the same!)!\n",
    "        userTokens[msg.sender] = 1; //TODO this should become a token generation function!\n",
    "        uint token=1; //TODO this is a shortcut. tokens should be derived from some verifiable function that cannot be faked\n",
    "        return token;\n",
    "    }\n",
    "    function renewToken(uint compliance) public returns(uint token){\n",
    "        require(userTokens[msg.sender] > 0, \"need to agree on licence first\");\n",
    "        if(licence==compliance){\n",
    "            emit Sent(msg.sender, dataProvider, userTokens[msg.sender]++);\n",
    "           token=userTokens[msg.sender]++;\n",
    "           //TODO add compliance in respect to dataUpdates\n",
    "           //the compliance that is given in input will need to show that updates were performed\n",
    "        }\n",
    "        else{\n",
    "            userTokens[msg.sender] = 0;\n",
    "            emit Sent(msg.sender, dataProvider, 0);\n",
    "            token=0;\n",
    "        }\n",
    "        return token;\n",
    "    }\n",
    "}\n",
    "```"
   ]
  },
  {
   "cell_type": "markdown",
   "metadata": {},
   "source": [
    "### Deploy Contract"
   ]
  },
  {
   "cell_type": "markdown",
   "metadata": {},
   "source": [
    "Compile (Compiler Version: 0.4.26 commit) & Deploy the solidity contract via Remix and Chrome + Metamask web3 injection to locally running instance of Ganache. Obtain smart contract address from transaction within Ganache and the public and private wallet keys from Metamask."
   ]
  },
  {
   "cell_type": "markdown",
   "metadata": {},
   "source": [
    "### Connect Python to local Ganache Node"
   ]
  },
  {
   "cell_type": "code",
   "execution_count": 5,
   "metadata": {},
   "outputs": [],
   "source": [
    "import time\n",
    "from web3 import Web3, HTTPProvider\n",
    "\n",
    "# Contract address from Ganache\n",
    "contract_address     = \"0x9B3da536bfFf54974AE3D9151D7C6F5dBE81990E\"\n",
    "\n",
    "# Private key obtained via Metamask\n",
    "wallet_private_key   = \"46CFCDA83AAA94D428D971517AC4A80AEE039B5C4B5CC6D876B78D06076A025A\"\n",
    "\n",
    "# Wallet address from Metamask\n",
    "wallet_address       = \"0x0a68a27F5b59C7Ed8A3c64330745AffD88ecfc85\"\n",
    "\n",
    "# Ganache Connection\n",
    "w3 = Web3(Web3.HTTPProvider(\"HTTP://127.0.0.1:7545\"))"
   ]
  },
  {
   "cell_type": "markdown",
   "metadata": {},
   "source": [
    "### Interacting with the smart contract"
   ]
  },
  {
   "cell_type": "markdown",
   "metadata": {},
   "source": [
    "In order to interact with the contract functions we need to expose the application binary interface (ABI) of the compiled smart contract to our Python code. The easiest way to do so is by copying the ABI data in json from Remix and storing it in another python module for easy access. (The ABI can be found in the Compile tab in Remix after compilation of the smart contract.)"
   ]
  },
  {
   "cell_type": "code",
   "execution_count": 3,
   "metadata": {},
   "outputs": [],
   "source": [
    "# Import Python module containing application binary interface \n",
    "import luce_abi\n",
    "# Instantiate web3 contract object using the contract address & corresponding application binary interface\n",
    "contract = w3.eth.contract(address = contract_address, abi = luce_abi.abi)"
   ]
  },
  {
   "cell_type": "markdown",
   "metadata": {},
   "source": [
    "This does NOT work:"
   ]
  },
  {
   "cell_type": "code",
   "execution_count": 4,
   "metadata": {},
   "outputs": [],
   "source": [
    "def setLicence(licence_uint):\n",
    "    return contract.functions.setLicence(licence_uint).call()"
   ]
  },
  {
   "cell_type": "markdown",
   "metadata": {},
   "source": [
    "But this DOES work:"
   ]
  },
  {
   "cell_type": "code",
   "execution_count": 5,
   "metadata": {},
   "outputs": [],
   "source": [
    "def setLicence(licence_uint):\n",
    "    nonce = w3.eth.getTransactionCount(wallet_address)\n",
    "    txn_dict = contract.functions.setLicence(licence_uint).buildTransaction({\n",
    "        'chainId': 3,\n",
    "        'gas': 140000,\n",
    "        'gasPrice': w3.toWei('40', 'gwei'),\n",
    "        'nonce': nonce,\n",
    "    })\n",
    "    # Sign transaction\n",
    "    signed_txn = w3.eth.account.signTransaction(txn_dict, private_key=wallet_private_key)    \n",
    "\n",
    "    # Send transaction and store hash\n",
    "    txn_hash = w3.eth.sendRawTransaction(signed_txn.rawTransaction)\n",
    "    \n",
    "    # Check if transaction was added to blockchain\n",
    "    time.sleep(2) # wait 2 seconds\n",
    "    tx_receipt = w3.eth.getTransactionReceipt(txn_hash)\n",
    "    if tx_receipt is None:\n",
    "        return {'status': 'failed', 'error': 'timeout'}\n",
    "    else:\n",
    "        print(tx_receipt)"
   ]
  },
  {
   "cell_type": "code",
   "execution_count": 6,
   "metadata": {},
   "outputs": [
    {
     "name": "stdout",
     "output_type": "stream",
     "text": [
      "AttributeDict({'transactionHash': HexBytes('0x80d20f65007d3a7370877d1d4d76f95e48b42fc19a6e1b51795ac4d6077758b2'), 'transactionIndex': 0, 'blockHash': HexBytes('0x7ffdfa09465347e1da19e2d0aa7bd5f1d59dbcca54963b7fb41db637d55366ed'), 'blockNumber': 31, 'from': '0x0a68a27f5b59c7ed8a3c64330745affd88ecfc85', 'to': '0x9b3da536bfff54974ae3d9151d7c6f5dbe81990e', 'gasUsed': 47001, 'cumulativeGasUsed': 47001, 'contractAddress': None, 'logs': [], 'status': 1, 'logsBloom': HexBytes('0x00000000000000000000000000000000000000000000000000000000000000000000000000000000000000000000000000000000000000000000000000000000000000000000000000000000000000000000000000000000000000000000000000000000000000000000000000000000000000000000000000000000000000000000000000000000000000000000000000000000000000000000000000000000000000000000000000000000000000000000000000000000000000000000000000000000000000000000000000000000000000000000000000000000000000000000000000000000000000000000000000000000000000000000000000000000'), 'v': '0x2a', 'r': '0x46ea738e060fcd7d7265813fb838f9027bf3f5329ec36582e101caa1a2b2cc47', 's': '0x5312ba4bd9c15deeda3acc782bf943b81e02041c919b4d33cd01ee0b66024d6c'})\n"
     ]
    }
   ],
   "source": [
    "setLicence(3)"
   ]
  },
  {
   "cell_type": "code",
   "execution_count": 7,
   "metadata": {},
   "outputs": [],
   "source": [
    "def getLicence():\n",
    "    return contract.functions.getLicence().call()"
   ]
  },
  {
   "cell_type": "code",
   "execution_count": 8,
   "metadata": {},
   "outputs": [
    {
     "data": {
      "text/plain": [
       "3"
      ]
     },
     "execution_count": 8,
     "metadata": {},
     "output_type": "execute_result"
    }
   ],
   "source": [
    "getLicence()"
   ]
  },
  {
   "cell_type": "markdown",
   "metadata": {},
   "source": [
    "---"
   ]
  },
  {
   "cell_type": "code",
   "execution_count": 9,
   "metadata": {},
   "outputs": [],
   "source": [
    "def publishData(description, link, licence):\n",
    "    nonce = w3.eth.getTransactionCount(wallet_address)\n",
    "    txn_dict = contract.functions.publishData(description, link, licence).buildTransaction({\n",
    "        'chainId': 3,\n",
    "        'gas': 140000,\n",
    "        'gasPrice': w3.toWei('40', 'gwei'),\n",
    "        'nonce': nonce,\n",
    "    })\n",
    "    # Sign transaction\n",
    "    signed_txn = w3.eth.account.signTransaction(txn_dict, private_key=wallet_private_key)    \n",
    "\n",
    "    # Send transaction and store hash\n",
    "    txn_hash = w3.eth.sendRawTransaction(signed_txn.rawTransaction)\n",
    "    \n",
    "    # Check if transaction was added to blockchain\n",
    "    time.sleep(2) # wait 2 seconds\n",
    "    tx_receipt = w3.eth.getTransactionReceipt(txn_hash)\n",
    "    if tx_receipt is None:\n",
    "        return {'status': 'failed', 'error': 'timeout'}\n",
    "    else:\n",
    "        print(tx_receipt)"
   ]
  },
  {
   "cell_type": "code",
   "execution_count": 10,
   "metadata": {
    "collapsed": true
   },
   "outputs": [
    {
     "name": "stdout",
     "output_type": "stream",
     "text": [
      "AttributeDict({'transactionHash': HexBytes('0x27353b68c53891a44194cc46722b318fc4e951208ca5ccf20e93b415cbba2e0c'), 'transactionIndex': 0, 'blockHash': HexBytes('0x667fd72c3097bc5b33660a7da69c51500345b9b9c1c2be563d29f67835d2cf04'), 'blockNumber': 32, 'from': '0x0a68a27f5b59c7ed8a3c64330745affd88ecfc85', 'to': '0x9b3da536bfff54974ae3d9151d7c6f5dbe81990e', 'gasUsed': 65548, 'cumulativeGasUsed': 65548, 'contractAddress': None, 'logs': [AttributeDict({'logIndex': 0, 'transactionIndex': 0, 'transactionHash': HexBytes('0x27353b68c53891a44194cc46722b318fc4e951208ca5ccf20e93b415cbba2e0c'), 'blockHash': HexBytes('0x667fd72c3097bc5b33660a7da69c51500345b9b9c1c2be563d29f67835d2cf04'), 'blockNumber': 32, 'address': '0x9B3da536bfFf54974AE3D9151D7C6F5dBE81990E', 'data': '0x0000000000000000000000000a68a27f5b59c7ed8a3c64330745affd88ecfc85000000000000000000000000000000000000000000000000000000000000008000000000000000000000000000000000000000000000000000000000000000c00000000000000000000000000000000000000000000000000000000000000003000000000000000000000000000000000000000000000000000000000000001074657374206465736372697074696f6e00000000000000000000000000000000000000000000000000000000000000000000000000000000000000000000000974657374206c696e6b0000000000000000000000000000000000000000000000', 'topics': [HexBytes('0xab57663640fff2a2f04b950f55e12d7e8c0131e0fcd75753cb1ccc510b18dbfa')], 'type': 'mined'})], 'status': 1, 'logsBloom': HexBytes('0x00000000000000000000000000000000000000000000000000000000000004000000000000000000000000000000000000000000000000000000000000000000000000000000000000000000000000000000000000000000000000000000000000000000000000000000000000000000000000000000000000000000000000000000000000000000000000000000000000000000000000000000000000000000000000000000000000000000000000000000020000000000000000000000000000000000000040000000000080000000000000000000000000000800000000002000000000000000000000000000000000000000000000000000000000000000'), 'v': '0x29', 'r': '0x1538b1f41092a2243a57f5acb3db814d90d0937482b6c2815c3f3dfa49648905', 's': '0x60de107b6af11d47dd22a00fc974fb5239369d1de3d755dedb09e82549373223'})\n"
     ]
    }
   ],
   "source": [
    "publishData(\"test description\",\"test link\",3)"
   ]
  }
 ],
 "metadata": {
  "kernelspec": {
   "display_name": "Python 3",
   "language": "python",
   "name": "python3"
  },
  "language_info": {
   "codemirror_mode": {
    "name": "ipython",
    "version": 3
   },
   "file_extension": ".py",
   "mimetype": "text/x-python",
   "name": "python",
   "nbconvert_exporter": "python",
   "pygments_lexer": "ipython3",
   "version": "3.8.5"
  },
  "toc": {
   "base_numbering": 1,
   "nav_menu": {},
   "number_sections": false,
   "sideBar": true,
   "skip_h1_title": false,
   "title_cell": "Table of Contents",
   "title_sidebar": "Contents",
   "toc_cell": false,
   "toc_position": {},
   "toc_section_display": true,
   "toc_window_display": true
  }
 },
 "nbformat": 4,
 "nbformat_minor": 2
}
